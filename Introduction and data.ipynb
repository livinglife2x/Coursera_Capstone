{
 "cells": [
  {
   "cell_type": "markdown",
   "metadata": {},
   "source": [
    "# Introduction: San Francisco "
   ]
  },
  {
   "cell_type": "markdown",
   "metadata": {},
   "source": [
    "As of 2020,City of San Francisco has the highest salaries, disposable income, and median home prices in the world at $1.7 million, as well as the highest median rents. San Francisco Bay Area in Northern California serves as a global center for high technology, innovation, venture capital, and social media. It is multicultural. It provides lot of business oppourtunities and business friendly environment. It has attracted many different players into the market. It is a global hub of business and commerce. This also means that the market is highly competitive. As it is highly developed city so cost of doing business is also one of the highest. Thus, any new business venture or expansion needs to be analysed carefully. The insights derived from analysis will give good understanding of the business environment which help in strategically targeting the market. This will help in reduction of risk. And the Return on Investment will be reasonable."
   ]
  },
  {
   "cell_type": "markdown",
   "metadata": {},
   "source": [
    "# Business Problem"
   ]
  },
  {
   "cell_type": "markdown",
   "metadata": {},
   "source": [
    "Given high median rents and salaries, San Francisco will attract lot of people expecting good food and entertainement. The high consumer spending capacity calls for need of niche and high quality product experience. This will open opportunities for entrepreneurs to setup a restuarant/food chain."
   ]
  },
  {
   "cell_type": "markdown",
   "metadata": {},
   "source": [
    "### Suitable Restaurant and Location"
   ]
  },
  {
   "cell_type": "markdown",
   "metadata": {},
   "source": [
    "Since lots of restaurants exist in San Francisco, we will try to detect locations that are not already crowded with restaurants. We are also particularly interested in areas with no Italian or sushi restaurants in vicinity. We would also prefer locations as close to city center as possible, assuming that first two conditions are met."
   ]
  },
  {
   "cell_type": "markdown",
   "metadata": {},
   "source": [
    "### Target Audience"
   ]
  },
  {
   "cell_type": "markdown",
   "metadata": {},
   "source": [
    "Anyone looking to open a restaurant in San Fransisco Bay area.\n",
    "The objective is to locate and recommend to the target audience which neighborhood of San Francisco city will be best choice to start a itlaian/sushi restaurant."
   ]
  },
  {
   "cell_type": "markdown",
   "metadata": {},
   "source": [
    "# Data\n"
   ]
  },
  {
   "cell_type": "markdown",
   "metadata": {},
   "source": [
    "The Datum needed:\n",
    "- number of existing restaurants in the neighborhood (any type of restaurant)\n",
    "- number of and distance to Italian/sushi restaurants in the neighborhood, if any\n",
    "- distance of neighborhood from city center\n",
    "\n",
    "We decided to use regularly spaced grid of locations, centered around city center, to define our neighborhoods.\n",
    "\n",
    "Following data sources will be needed to extract/generate the required information:\n",
    "\n",
    "- centers of candidate areas will be generated algorithmically and approximate addresses of centers of those areas will be obtained using Google Maps API reverse geocoding\n",
    "\n",
    "- number of restaurants and their type and location in every neighborhood will be obtained using Foursquare API\n",
    "- coordinate of San Francisco center will be obtained using Google Maps API"
   ]
  },
  {
   "cell_type": "code",
   "execution_count": null,
   "metadata": {},
   "outputs": [],
   "source": []
  }
 ],
 "metadata": {
  "kernelspec": {
   "display_name": "Python 3",
   "language": "python",
   "name": "python3"
  },
  "language_info": {
   "codemirror_mode": {
    "name": "ipython",
    "version": 3
   },
   "file_extension": ".py",
   "mimetype": "text/x-python",
   "name": "python",
   "nbconvert_exporter": "python",
   "pygments_lexer": "ipython3",
   "version": "3.7.1"
  }
 },
 "nbformat": 4,
 "nbformat_minor": 2
}
